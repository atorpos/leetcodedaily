{
 "cells": [
  {
   "cell_type": "code",
   "execution_count": null,
   "id": "initial_id",
   "metadata": {
    "collapsed": true
   },
   "outputs": [],
   "source": [
    "from typing import List\n",
    "\n",
    "def count_k_big_indices(nums: List[int], k: int) -> int:\n",
    "    n = len(nums)\n",
    "    count = 0\n",
    "\n",
    "    for i in range(n):\n",
    "        # Count smaller elements on the left\n",
    "        left_smaller = 0\n",
    "        for j in range(i):\n",
    "            if nums[j] < nums[i]:\n",
    "                left_smaller += 1\n",
    "\n",
    "        # Count smaller elements on the right\n",
    "        right_smaller = 0\n",
    "        for j in range(i + 1, n):\n",
    "            if nums[j] < nums[i]:\n",
    "                right_smaller += 1\n",
    "\n",
    "        # Check if current index is k-big\n",
    "        if left_smaller >= k and right_smaller >= k:\n",
    "            count += 1\n",
    "\n",
    "    return count\n",
    "\n",
    "#"
   ]
  },
  {
   "metadata": {},
   "cell_type": "code",
   "outputs": [],
   "execution_count": null,
   "source": [
    "# Test Case 1\n",
    "nums1 = [2,3,6,5,2,3]\n",
    "k1 = 2\n",
    "print(f\"Test Case 1: nums = {nums1}, k = {k1}\")\n",
    "print(f\"Output: {count_k_big_indices(nums1, k1)}\\n\")\n",
    "\n",
    "# Test Case 2\n",
    "nums2 = [1,1,1]\n",
    "k2 = 3\n",
    "print(f\"Test Case 2: nums = {nums2}, k = {k2}\")\n",
    "print(f\"Output: {count_k_big_indices(nums2, k2)}\")\n",
    "\n",
    "#"
   ],
   "id": "cd5aefd3a0677ab6"
  },
  {
   "metadata": {},
   "cell_type": "code",
   "outputs": [],
   "execution_count": null,
   "source": [
    "# Additional Test Case\n",
    "nums3 = [1,4,3,2,5,3]\n",
    "k3 = 1\n",
    "print(f\"Test Case 3: nums = {nums3}, k = {k3}\")\n",
    "print(f\"Output: {count_k_big_indices(nums3, k3)}\")"
   ],
   "id": "69922056dee39aa3"
  }
 ],
 "metadata": {
  "kernelspec": {
   "display_name": "Python 3",
   "language": "python",
   "name": "python3"
  },
  "language_info": {
   "codemirror_mode": {
    "name": "ipython",
    "version": 2
   },
   "file_extension": ".py",
   "mimetype": "text/x-python",
   "name": "python",
   "nbconvert_exporter": "python",
   "pygments_lexer": "ipython2",
   "version": "2.7.6"
  }
 },
 "nbformat": 4,
 "nbformat_minor": 5
}
