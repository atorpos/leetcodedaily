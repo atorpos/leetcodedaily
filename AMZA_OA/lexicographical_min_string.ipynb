{
 "cells": [
  {
   "cell_type": "code",
   "execution_count": null,
   "id": "initial_id",
   "metadata": {
    "collapsed": true
   },
   "outputs": [],
   "source": "# Import necessary libraries"
  },
  {
   "metadata": {},
   "cell_type": "code",
   "outputs": [],
   "execution_count": null,
   "source": [
    "def lexicographically_minimal_string(input_str):\n",
    "    \"\"\"\n",
    "    Transforms the input string of digits to lexicographically minimal string\n",
    "    by the following rules:\n",
    "    - If a digit is less than 5, keep it unchanged.\n",
    "    - If a digit is greater than or equal to 5, replace it with 9.\n",
    "    \"\"\"\n",
    "    result = []\n",
    "    for char in input_str:\n",
    "        digit = int(char)\n",
    "        if digit < 5:\n",
    "            result.append(char)\n",
    "        else:\n",
    "            result.append('9')\n",
    "    return ''.join(result)"
   ],
   "id": "1dfb9843598409e7"
  },
  {
   "metadata": {
    "ExecuteTime": {
     "end_time": "2025-02-22T15:35:59.460405Z",
     "start_time": "2025-02-22T15:35:59.207319Z"
    }
   },
   "cell_type": "code",
   "source": [
    "# Test cases for lexicographically_minimal_string\n",
    "test_cases = [\n",
    "    (\"26547\", \"24677\"),\n",
    "    (\"04829\", \"02599\"),\n",
    "    (\"34892\", \"24599\"),\n",
    "    (\"00000\", \"00000\"),\n",
    "    (\"99999\", \"99999\"),\n",
    "    (\"54321\", \"99921\")\n",
    "]\n",
    "\n",
    "for test_input, expected_output in test_cases:\n",
    "    output = lexicographically_minimal_string(test_input)\n",
    "    print(f\"Input: {test_input}, Output: {output}, Expected: {expected_output}, Pass: {output == expected_output}\")"
   ],
   "id": "44c9e9f616973d75",
   "outputs": [
    {
     "ename": "NameError",
     "evalue": "name 'lexicographically_minimal_string' is not defined",
     "output_type": "error",
     "traceback": [
      "\u001B[0;31m---------------------------------------------------------------------------\u001B[0m",
      "\u001B[0;31mNameError\u001B[0m                                 Traceback (most recent call last)",
      "Cell \u001B[0;32mIn[1], line 12\u001B[0m\n\u001B[1;32m      2\u001B[0m test_cases \u001B[38;5;241m=\u001B[39m [\n\u001B[1;32m      3\u001B[0m     (\u001B[38;5;124m\"\u001B[39m\u001B[38;5;124m26547\u001B[39m\u001B[38;5;124m\"\u001B[39m, \u001B[38;5;124m\"\u001B[39m\u001B[38;5;124m24677\u001B[39m\u001B[38;5;124m\"\u001B[39m),\n\u001B[1;32m      4\u001B[0m     (\u001B[38;5;124m\"\u001B[39m\u001B[38;5;124m04829\u001B[39m\u001B[38;5;124m\"\u001B[39m, \u001B[38;5;124m\"\u001B[39m\u001B[38;5;124m02599\u001B[39m\u001B[38;5;124m\"\u001B[39m),\n\u001B[0;32m   (...)\u001B[0m\n\u001B[1;32m      8\u001B[0m     (\u001B[38;5;124m\"\u001B[39m\u001B[38;5;124m54321\u001B[39m\u001B[38;5;124m\"\u001B[39m, \u001B[38;5;124m\"\u001B[39m\u001B[38;5;124m99921\u001B[39m\u001B[38;5;124m\"\u001B[39m)\n\u001B[1;32m      9\u001B[0m ]\n\u001B[1;32m     11\u001B[0m \u001B[38;5;28;01mfor\u001B[39;00m test_input, expected_output \u001B[38;5;129;01min\u001B[39;00m test_cases:\n\u001B[0;32m---> 12\u001B[0m     output \u001B[38;5;241m=\u001B[39m \u001B[43mlexicographically_minimal_string\u001B[49m(test_input)\n\u001B[1;32m     13\u001B[0m     \u001B[38;5;28mprint\u001B[39m(\u001B[38;5;124mf\u001B[39m\u001B[38;5;124m\"\u001B[39m\u001B[38;5;124mInput: \u001B[39m\u001B[38;5;132;01m{\u001B[39;00mtest_input\u001B[38;5;132;01m}\u001B[39;00m\u001B[38;5;124m, Output: \u001B[39m\u001B[38;5;132;01m{\u001B[39;00moutput\u001B[38;5;132;01m}\u001B[39;00m\u001B[38;5;124m, Expected: \u001B[39m\u001B[38;5;132;01m{\u001B[39;00mexpected_output\u001B[38;5;132;01m}\u001B[39;00m\u001B[38;5;124m, Pass: \u001B[39m\u001B[38;5;132;01m{\u001B[39;00moutput\u001B[38;5;250m \u001B[39m\u001B[38;5;241m==\u001B[39m\u001B[38;5;250m \u001B[39mexpected_output\u001B[38;5;132;01m}\u001B[39;00m\u001B[38;5;124m\"\u001B[39m)\n",
      "\u001B[0;31mNameError\u001B[0m: name 'lexicographically_minimal_string' is not defined"
     ]
    }
   ],
   "execution_count": 1
  }
 ],
 "metadata": {
  "kernelspec": {
   "display_name": "Python 3",
   "language": "python",
   "name": "python3"
  },
  "language_info": {
   "codemirror_mode": {
    "name": "ipython",
    "version": 2
   },
   "file_extension": ".py",
   "mimetype": "text/x-python",
   "name": "python",
   "nbconvert_exporter": "python",
   "pygments_lexer": "ipython2",
   "version": "2.7.6"
  }
 },
 "nbformat": 4,
 "nbformat_minor": 5
}
